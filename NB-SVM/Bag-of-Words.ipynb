{
 "cells": [
  {
   "cell_type": "code",
   "execution_count": 1,
   "metadata": {},
   "outputs": [
    {
     "name": "stderr",
     "output_type": "stream",
     "text": [
      "[nltk_data] Downloading package stopwords to /Users/james/nltk_data...\n",
      "[nltk_data]   Package stopwords is already up-to-date!\n",
      "[nltk_data] Downloading package wordnet to /Users/james/nltk_data...\n",
      "[nltk_data]   Package wordnet is already up-to-date!\n",
      "[nltk_data] Downloading package punkt to /Users/james/nltk_data...\n",
      "[nltk_data]   Package punkt is already up-to-date!\n",
      "[nltk_data] Downloading package averaged_perceptron_tagger to\n",
      "[nltk_data]     /Users/james/nltk_data...\n",
      "[nltk_data]   Package averaged_perceptron_tagger is already up-to-\n",
      "[nltk_data]       date!\n"
     ]
    }
   ],
   "source": [
    "import csv\n",
    "import json\n",
    "import re\n",
    "import pandas as pd\n",
    "import numpy as np\n",
    "from sklearn.preprocessing import LabelEncoder\n",
    "from collections import defaultdict\n",
    "from sklearn.feature_extraction.text import CountVectorizer\n",
    "from sklearn import model_selection, naive_bayes, svm\n",
    "from sklearn.metrics import accuracy_score, confusion_matrix, classification_report\n",
    "from sklearn.linear_model import LogisticRegression\n",
    "from datetime import datetime\n",
    "from preprocessing_func import process_corpus"
   ]
  },
  {
   "cell_type": "code",
   "execution_count": 2,
   "metadata": {},
   "outputs": [
    {
     "name": "stdout",
     "output_type": "stream",
     "text": [
      "Loading Corpus and do the preprocessing\n",
      "Successfully Loaded the corpus\n"
     ]
    }
   ],
   "source": [
    "#Load the corpus and do the preprocessing\n",
    "print(\"Loading Corpus and do the preprocessing\")\n",
    "Corpus=pd.read_json('./data/corpus.json')\n",
    "Corpus=process_corpus(Corpus)\n",
    "print(\"Successfully Loaded the corpus\")"
   ]
  },
  {
   "cell_type": "code",
   "execution_count": 3,
   "metadata": {},
   "outputs": [],
   "source": [
    "#obtain the training and testing dataset\n",
    "Train_X, Test_X, Train_Y, Test_Y=model_selection.train_test_split(Corpus['Tokenized_text'],Corpus['isFraud'],test_size=0.3)\n",
    "\n",
    "#Encoding the dataset\n",
    "Encoder=LabelEncoder()\n",
    "Train_Y=Encoder.fit_transform(Train_Y)\n",
    "Test_Y=Encoder.fit_transform(Test_Y)"
   ]
  },
  {
   "cell_type": "code",
   "execution_count": 4,
   "metadata": {},
   "outputs": [],
   "source": [
    "#Word Vectorization using TF-IDF\n",
    "BOW_vect=CountVectorizer(max_features=5000)\n",
    "BOW_vect.fit(Corpus['Tokenized_text'])\n",
    "\n",
    "Train_X_BOW=BOW_vect.transform(Train_X)\n",
    "Test_X_BOW=BOW_vect.transform(Test_X)"
   ]
  },
  {
   "cell_type": "code",
   "execution_count": 5,
   "metadata": {},
   "outputs": [
    {
     "name": "stdout",
     "output_type": "stream",
     "text": [
      "Naive Bayes Accuracy Score ->  84.92462311557789\n",
      "Confusion matrix is\n",
      "[[264  39]\n",
      " [ 51 243]]\n",
      "classification report is\n",
      "              precision    recall  f1-score   support\n",
      "\n",
      "           0       0.84      0.87      0.85       303\n",
      "           1       0.86      0.83      0.84       294\n",
      "\n",
      "    accuracy                           0.85       597\n",
      "   macro avg       0.85      0.85      0.85       597\n",
      "weighted avg       0.85      0.85      0.85       597\n",
      "\n"
     ]
    }
   ],
   "source": [
    "#Using Naive Bayes Classifier to predict the outcome\n",
    "Naive=naive_bayes.MultinomialNB()\n",
    "Naive.fit(Train_X_BOW,Train_Y)\n",
    "\n",
    "predictions_NB=Naive.predict(Test_X_BOW)\n",
    "print(\"Naive Bayes Accuracy Score -> \",accuracy_score(predictions_NB, Test_Y)*100)\n",
    "print(\"Confusion matrix is\")\n",
    "print(confusion_matrix(predictions_NB, Test_Y))\n",
    "print(\"classification report is\")\n",
    "print(classification_report(predictions_NB, Test_Y))"
   ]
  },
  {
   "cell_type": "code",
   "execution_count": 6,
   "metadata": {},
   "outputs": [
    {
     "name": "stdout",
     "output_type": "stream",
     "text": [
      "SVM Accuracy Score ->  89.7822445561139\n",
      "Confusion matrix is\n",
      "[[274  20]\n",
      " [ 41 262]]\n",
      "classification report is\n",
      "              precision    recall  f1-score   support\n",
      "\n",
      "           0       0.87      0.93      0.90       294\n",
      "           1       0.93      0.86      0.90       303\n",
      "\n",
      "    accuracy                           0.90       597\n",
      "   macro avg       0.90      0.90      0.90       597\n",
      "weighted avg       0.90      0.90      0.90       597\n",
      "\n"
     ]
    }
   ],
   "source": [
    "#Using SVM to predict the outcome\n",
    "SVM=svm.SVC(C=1.0,kernel='linear',degree=3,gamma='auto')\n",
    "SVM.fit(Train_X_BOW,Train_Y)\n",
    "\n",
    "predictions_SVM=SVM.predict(Test_X_BOW)\n",
    "print(\"SVM Accuracy Score -> \",accuracy_score(predictions_SVM, Test_Y)*100)\n",
    "print(\"Confusion matrix is\")\n",
    "print(confusion_matrix(predictions_SVM, Test_Y))\n",
    "print(\"classification report is\")\n",
    "print(classification_report(predictions_SVM, Test_Y))"
   ]
  },
  {
   "cell_type": "code",
   "execution_count": 7,
   "metadata": {},
   "outputs": [
    {
     "name": "stdout",
     "output_type": "stream",
     "text": [
      "LR Accuracy Score ->  92.12730318257957\n",
      "Confusion matrix is\n",
      "[[283  15]\n",
      " [ 32 267]]\n",
      "classification report is\n",
      "              precision    recall  f1-score   support\n",
      "\n",
      "           0       0.90      0.95      0.92       298\n",
      "           1       0.95      0.89      0.92       299\n",
      "\n",
      "    accuracy                           0.92       597\n",
      "   macro avg       0.92      0.92      0.92       597\n",
      "weighted avg       0.92      0.92      0.92       597\n",
      "\n"
     ]
    }
   ],
   "source": [
    "LR=LogisticRegression(C=100, random_state=0, max_iter=1000)\n",
    "LR.fit(Train_X_BOW,Train_Y)\n",
    "predictions_LR=LR.predict(Test_X_BOW)\n",
    "print(\"LR Accuracy Score -> \",accuracy_score(predictions_LR, Test_Y)*100)\n",
    "print(\"Confusion matrix is\")\n",
    "print(confusion_matrix(predictions_LR, Test_Y))\n",
    "print(\"classification report is\")\n",
    "print(classification_report(predictions_LR, Test_Y))"
   ]
  },
  {
   "cell_type": "code",
   "execution_count": null,
   "metadata": {},
   "outputs": [],
   "source": []
  }
 ],
 "metadata": {
  "interpreter": {
   "hash": "5df72968c04c6f62c4593b447ddc35d499f3e0409ea68f0167049ba6cc9c94e6"
  },
  "kernelspec": {
   "display_name": "Python 3",
   "language": "python",
   "name": "python3"
  },
  "language_info": {
   "codemirror_mode": {
    "name": "ipython",
    "version": 3
   },
   "file_extension": ".py",
   "mimetype": "text/x-python",
   "name": "python",
   "nbconvert_exporter": "python",
   "pygments_lexer": "ipython3",
   "version": "3.9.7"
  }
 },
 "nbformat": 4,
 "nbformat_minor": 4
}
