{
 "cells": [
  {
   "cell_type": "code",
   "execution_count": null,
   "metadata": {},
   "outputs": [],
   "source": [
    "Loading packages"
   ]
  },
  {
   "cell_type": "code",
   "execution_count": 2,
   "metadata": {},
   "outputs": [],
   "source": [
    "from sec_api import QueryApi, ExtractorApi\n",
    "import csv\n",
    "import json\n",
    "from datetime import datetime\n",
    "queryApi = QueryApi(api_key=\"b12062d7e9c95f42d2cee3a526aacc7eb1980f5e8da55254010c1bb88eb6da80\")\n",
    "extractorApi = ExtractorApi(\"b12062d7e9c95f42d2cee3a526aacc7eb1980f5e8da55254010c1bb88eb6da80\")"
   ]
  },
  {
   "cell_type": "markdown",
   "metadata": {},
   "source": [
    "#Step 1. Using SEC API to get links of 10-K files between 2000 and 2018 "
   ]
  },
  {
   "cell_type": "code",
   "execution_count": null,
   "metadata": {},
   "outputs": [],
   "source": [
    "jsons=[]\n",
    "for i in range(50):\n",
    "    #loading 10-K files issued between 2000-01-01 to 2018-12-31\n",
    "    query = {\n",
    "        \"query\": { \"query_string\": { \n",
    "            \"query\": \"filedAt:{2000-01-01 TO 2018-03-31} AND formType:\\\"10-K\\\"\" \n",
    "        } },\n",
    "        \"from\": 200*i,\n",
    "        \"size\": \"100000000000000000000000000000\",\n",
    "        \"sort\": [{ \"filedAt\": { \"order\": \"desc\" } }]\n",
    "    }\n",
    "    filings = queryApi.get_filings(query)\n",
    "    jsons.append(filings)\n",
    "    print(\"Iteration\",i,\"is finished!\")\n",
    "\n"
   ]
  },
  {
   "cell_type": "markdown",
   "metadata": {},
   "source": [
    "#Step 2. write links to the \"raw_data.csv\" file"
   ]
  },
  {
   "cell_type": "code",
   "execution_count": null,
   "metadata": {},
   "outputs": [
    {
     "name": "stdout",
     "output_type": "stream",
     "text": [
      "1000\n"
     ]
    }
   ],
   "source": [
    "f=open('raw_data.csv','a',newline='')\n",
    "csvwriter=csv.writer(f)\n",
    "count=0\n",
    "\n",
    "for filings in jsons:\n",
    "    filings=filings['filings']\n",
    "    for filing in filings:\n",
    "        name=filing['companyName']; ticker=filing['ticker']; cik=filing['cik']; formtype=filing['formType']; date=filing['filedAt']; url=filing['linkToFilingDetails'] \n",
    "        json={'Company Name':name, 'Ticker':ticker, 'CIK': cik, 'formType':formtype, 'Filing Date': date, 'link to Filing Details':url}\n",
    "    \n",
    "        if count==0:\n",
    "            header=json.keys()\n",
    "            csvwriter.writerow(header)\n",
    "            count+=1\n",
    "        csvwriter.writerow(json.values())\n",
    "        count+=1\n",
    "f.close()\n",
    "print(count-1)\n"
   ]
  },
  {
   "cell_type": "markdown",
   "metadata": {},
   "source": [
    "#Step 3. loading AAER issuing data (AAER no, CIK, Year)"
   ]
  },
  {
   "cell_type": "code",
   "execution_count": null,
   "metadata": {},
   "outputs": [
    {
     "name": "stdout",
     "output_type": "stream",
     "text": [
      "1746\n"
     ]
    }
   ],
   "source": [
    "f=open('AAER_firm_year.csv','r')\n",
    "csvreader=csv.reader(f)\n",
    "count=0\n",
    "cik_years=[]\n",
    "for row in csvreader:\n",
    "    #check if the row is the header\n",
    "    if count==0:\n",
    "        count+=1\n",
    "        continue\n",
    "    cik=row[1]\n",
    "    year=row[2]\n",
    "    cik_years.append((cik,year))\n",
    "print(len(cik_years))"
   ]
  },
  {
   "cell_type": "markdown",
   "metadata": {},
   "source": [
    "#Step 4. Extracting MD&A section from the 10-K file links of fraud cases"
   ]
  },
  {
   "cell_type": "code",
   "execution_count": null,
   "metadata": {},
   "outputs": [],
   "source": [
    "f=open('raw_data.csv','r')\n",
    "csvreader=csv.reader(f)\n",
    "count=0; dicts=[]\n",
    "for row in csvreader:\n",
    "    #check if the formtype is 10-K:\n",
    "    if row[3] !=\"10-K\":\n",
    "        continue\n",
    "    \n",
    "    #Initialize the dict\n",
    "    name=row[0]; ticker=row[1]; cik=row[2]; formtype=row[3]; year=row[4][0:4]; url=row[5]\n",
    "    cik_year=(cik,year)\n",
    "\n",
    "    if cik_year not in cik_years:\n",
    "        continue\n",
    "    if cik_year in cik_years:\n",
    "        isFraud=1\n",
    "    else:\n",
    "        isFraud=0\n",
    "    section_text=extractorApi.get_section(url,\"7\",\"text\")\n",
    "    data={'Company Name':name, 'Ticker':ticker, 'CIK': cik, 'formType':formtype, 'Filing Year': year, 'isFraud':isFraud, 'MD&A':section_text}\n",
    "    dicts.append(data)\n",
    "    count+=1\n",
    "f.close()\n"
   ]
  },
  {
   "cell_type": "markdown",
   "metadata": {},
   "source": [
    "write data as json to file"
   ]
  },
  {
   "cell_type": "code",
   "execution_count": null,
   "metadata": {},
   "outputs": [],
   "source": [
    "import json\n",
    "with open('fraud_case.json','w') as fp:\n",
    "    json.dump(dicts,fp,indent=7)\n"
   ]
  },
  {
   "cell_type": "markdown",
   "metadata": {},
   "source": [
    "#Step 5. Extracting MD&A section from the 10-K file links of non-fraud cases"
   ]
  },
  {
   "cell_type": "code",
   "execution_count": null,
   "metadata": {},
   "outputs": [],
   "source": [
    "f=open('raw_data.csv','r')\n",
    "csvreader=csv.reader(f)\n",
    "count=0; dicts=[]\n",
    "for row in csvreader:\n",
    "    #check if the formtype is 10-K:\n",
    "    if row[3] !=\"10-K\":\n",
    "        continue\n",
    "    \n",
    "    #Initialize the dict\n",
    "    name=row[0]; ticker=row[1]; cik=row[2]; formtype=row[3]; year=row[4][0:4]; url=row[5]\n",
    "    cik_year=(cik,year)\n",
    "\n",
    "    if cik_year in cik_years:\n",
    "        continue\n",
    "    if cik_year in cik_years:\n",
    "        isFraud=1\n",
    "    else:\n",
    "        isFraud=0\n",
    "    section_text=extractorApi.get_section(url,\"7\",\"text\")\n",
    "    data={'Company Name':name, 'Ticker':ticker, 'CIK': cik, 'formType':formtype, 'Filing Year': year, 'isFraud':isFraud, 'MD&A':section_text}\n",
    "    dicts.append(data)\n",
    "    count+=1\n",
    "\n",
    "    if count==350:\n",
    "        break\n",
    "f.close()"
   ]
  },
  {
   "cell_type": "code",
   "execution_count": null,
   "metadata": {},
   "outputs": [],
   "source": [
    "import json\n",
    "with open('non-fraud_case.json','w') as fp:\n",
    "    json.dump(dicts,fp,indent=7)\n"
   ]
  }
 ],
 "metadata": {
  "interpreter": {
   "hash": "5df72968c04c6f62c4593b447ddc35d499f3e0409ea68f0167049ba6cc9c94e6"
  },
  "kernelspec": {
   "display_name": "backtester",
   "language": "python",
   "name": "backtester"
  },
  "language_info": {
   "codemirror_mode": {
    "name": "ipython",
    "version": 3
   },
   "file_extension": ".py",
   "mimetype": "text/x-python",
   "name": "python",
   "nbconvert_exporter": "python",
   "pygments_lexer": "ipython3",
   "version": "3.8.5"
  },
  "orig_nbformat": 4
 },
 "nbformat": 4,
 "nbformat_minor": 2
}
