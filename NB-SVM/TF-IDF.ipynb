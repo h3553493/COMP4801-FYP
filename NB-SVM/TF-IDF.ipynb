{
 "cells": [
  {
   "cell_type": "code",
   "execution_count": 1,
   "metadata": {},
   "outputs": [
    {
     "name": "stderr",
     "output_type": "stream",
     "text": [
      "[nltk_data] Downloading package stopwords to /Users/james/nltk_data...\n",
      "[nltk_data]   Package stopwords is already up-to-date!\n",
      "[nltk_data] Downloading package wordnet to /Users/james/nltk_data...\n",
      "[nltk_data]   Package wordnet is already up-to-date!\n",
      "[nltk_data] Downloading package punkt to /Users/james/nltk_data...\n",
      "[nltk_data]   Package punkt is already up-to-date!\n",
      "[nltk_data] Downloading package averaged_perceptron_tagger to\n",
      "[nltk_data]     /Users/james/nltk_data...\n",
      "[nltk_data]   Package averaged_perceptron_tagger is already up-to-\n",
      "[nltk_data]       date!\n"
     ]
    }
   ],
   "source": [
    "%matplotlib inline\n",
    "import json\n",
    "import re\n",
    "import pandas as pd\n",
    "import numpy as np\n",
    "from sklearn.preprocessing import LabelEncoder\n",
    "from collections import defaultdict\n",
    "from sklearn.feature_extraction.text import TfidfVectorizer\n",
    "from sklearn import model_selection, naive_bayes, svm\n",
    "from sklearn.linear_model import LogisticRegression\n",
    "from sklearn.metrics import accuracy_score, confusion_matrix, classification_report\n",
    "from datetime import datetime\n",
    "from preprocessing_func import process_corpus\n",
    "import matplotlib.pyplot as plt"
   ]
  },
  {
   "cell_type": "code",
   "execution_count": null,
   "metadata": {},
   "outputs": [
    {
     "name": "stdout",
     "output_type": "stream",
     "text": [
      "Loading Corpus and do the preprocessing\n"
     ]
    }
   ],
   "source": [
    "#Load the corpus and do the preprocessing\n",
    "print(\"Loading Corpus and do the preprocessing\")\n",
    "Corpus=pd.read_json('./data/corpus.json')\n",
    "Corpus=process_corpus(Corpus)\n",
    "print(\"Successfully Loaded the corpus\")"
   ]
  },
  {
   "cell_type": "code",
   "execution_count": 3,
   "metadata": {},
   "outputs": [
    {
     "name": "stdout",
     "output_type": "stream",
     "text": [
      "                            Company Name Ticker      CIK formType  \\\n",
      "0                      Track Group, Inc.   TRCK  1045942     10-K   \n",
      "1            NAVISTAR INTERNATIONAL CORP    NAV   808450     10-K   \n",
      "2                      INTL FCSTONE INC.   SNEX   913760     10-K   \n",
      "3                     INGLES MARKETS INC  IMKTA    50493     10-K   \n",
      "4                     IES Holdings, Inc.   IESC  1048268     10-K   \n",
      "...                                  ...    ...      ...      ...   \n",
      "1982                       AAIPHARMA INC   AAII  1013243     10-K   \n",
      "1983  INTERPUBLIC GROUP OF COMPANIES INC    IPG    51644     10-K   \n",
      "1984                     DUANE READE INC    DRD   895364     10-K   \n",
      "1985                          TEREX CORP    TEX    97216     10-K   \n",
      "1986                   MQ ASSOCIATES INC         1198233     10-K   \n",
      "\n",
      "      Filing Year  isFraud                                               MD&A  \\\n",
      "0            2018        0  [item, man, agementxs, discussion, analysis, f...   \n",
      "1            2018        0  [item, managements, discussion, analysis, fina...   \n",
      "2            2018        0  [item, managements, discussion, analysis, fina...   \n",
      "3            2018        0  [item, managementxs, discussion, analysis, fin...   \n",
      "4            2018        0  [item, managements, discussion, analysis, fina...   \n",
      "...           ...      ...                                                ...   \n",
      "1982         2003        1  [item, managements, discussion, analysis, fina...   \n",
      "1983         2003        1  [item, managements, discussion, analysis, fina...   \n",
      "1984         2003        1  [item, managements, discussion, analysis, fina...   \n",
      "1985         2003        1  [item, managements, discussion, analysis, fina...   \n",
      "1986         2003        1  [item, managements, discussion, analysis, fina...   \n",
      "\n",
      "                                         Tokenized_text  \n",
      "0     ['item', 'man', 'agementxs', 'discussion', 'an...  \n",
      "1     ['item', 'management', 'discussion', 'analysis...  \n",
      "2     ['item', 'management', 'discussion', 'analysis...  \n",
      "3     ['item', 'managementxs', 'discussion', 'analys...  \n",
      "4     ['item', 'management', 'discussion', 'analysis...  \n",
      "...                                                 ...  \n",
      "1982  ['item', 'management', 'discussion', 'analysis...  \n",
      "1983  ['item', 'management', 'discussion', 'analysis...  \n",
      "1984  ['item', 'management', 'discussion', 'analysis...  \n",
      "1985  ['item', 'management', 'discussion', 'analysis...  \n",
      "1986  ['item', 'management', 'discussion', 'analysis...  \n",
      "\n",
      "[1987 rows x 8 columns]\n"
     ]
    }
   ],
   "source": [
    "print(Corpus)"
   ]
  },
  {
   "cell_type": "code",
   "execution_count": 43,
   "metadata": {},
   "outputs": [
    {
     "data": {
      "image/png": "[encoded data removed]",
      "text/plain": [
       "<Figure size 432x288 with 1 Axes>"
      ]
     },
     "metadata": {
      "needs_background": "light"
     },
     "output_type": "display_data"
    }
   ],
   "source": [
    "df1=Corpus.loc[Corpus['isFraud']==1]\n",
    "df1['Filing Year'].value_counts().plot(kind=\"bar\")\n",
    "plt.show()"
   ]
  },
  {
   "cell_type": "code",
   "execution_count": 46,
   "metadata": {},
   "outputs": [
    {
     "data": {
      "image/png": "[encoded data removed]",
      "text/plain": [
       "<Figure size 432x288 with 1 Axes>"
      ]
     },
     "metadata": {
      "needs_background": "light"
     },
     "output_type": "display_data"
    }
   ],
   "source": [
    "df2=Corpus.loc[Corpus['isFraud']==0]\n",
    "df2['Filing Year'].value_counts().plot(kind=\"bar\")\n",
    "plt.show()"
   ]
  },
  {
   "cell_type": "code",
   "execution_count": 44,
   "metadata": {},
   "outputs": [
    {
     "data": {
      "image/png": "[encoded data removed]",
      "text/plain": [
       "<Figure size 432x288 with 1 Axes>"
      ]
     },
     "metadata": {
      "needs_background": "light"
     },
     "output_type": "display_data"
    }
   ],
   "source": [
    "Corpus['isFraud'].value_counts().plot(kind=\"bar\")\n",
    "plt.show()"
   ]
  },
  {
   "cell_type": "code",
   "execution_count": 54,
   "metadata": {},
   "outputs": [],
   "source": [
    "#obtain the training and testing dataset\n",
    "Train_X, Test_X, Train_Y, Test_Y=model_selection.train_test_split(Corpus['Tokenized_text'],Corpus['isFraud'],test_size=0.3)\n",
    "\n",
    "#Encoding the dataset\n",
    "Encoder=LabelEncoder()\n",
    "Train_Y=Encoder.fit_transform(Train_Y)\n",
    "Test_Y=Encoder.fit_transform(Test_Y)"
   ]
  },
  {
   "cell_type": "code",
   "execution_count": 55,
   "metadata": {},
   "outputs": [],
   "source": [
    "#Word Vectorization using TF-IDF\n",
    "Tfidf_vect=TfidfVectorizer(max_features=5000)\n",
    "Tfidf_vect.fit(Corpus['Tokenized_text'])\n",
    "\n",
    "Train_X_Tfidf=Tfidf_vect.transform(Train_X)\n",
    "Test_X_Tfidf=Tfidf_vect.transform(Test_X)"
   ]
  },
  {
   "cell_type": "code",
   "execution_count": 59,
   "metadata": {},
   "outputs": [
    {
     "name": "stdout",
     "output_type": "stream",
     "text": [
      "Naive Bayes Accuracy Score ->  80.90452261306532\n",
      "Confusion matrix is\n",
      "[[306 102]\n",
      " [ 12 177]]\n",
      "classification report is\n",
      "              precision    recall  f1-score   support\n",
      "\n",
      "           0       0.96      0.75      0.84       408\n",
      "           1       0.63      0.94      0.76       189\n",
      "\n",
      "    accuracy                           0.81       597\n",
      "   macro avg       0.80      0.84      0.80       597\n",
      "weighted avg       0.86      0.81      0.82       597\n",
      "\n"
     ]
    }
   ],
   "source": [
    "#Using Naive Bayes Classifier to predict the outcome\n",
    "Naive=naive_bayes.MultinomialNB()\n",
    "Naive.fit(Train_X_Tfidf,Train_Y)\n",
    "\n",
    "predictions_NB=Naive.predict(Test_X_Tfidf)\n",
    "print(\"Naive Bayes Accuracy Score -> \",accuracy_score(predictions_NB, Test_Y)*100)\n",
    "print(\"Confusion matrix is\")\n",
    "print(confusion_matrix(predictions_NB, Test_Y))\n",
    "print(\"classification report is\")\n",
    "print(classification_report(predictions_NB, Test_Y))"
   ]
  },
  {
   "cell_type": "code",
   "execution_count": 57,
   "metadata": {},
   "outputs": [
    {
     "name": "stdout",
     "output_type": "stream",
     "text": [
      "SVM Accuracy Score ->  92.29480737018424\n",
      "Confusion matrix is\n",
      "[[307  35]\n",
      " [ 11 244]]\n",
      "classification report is\n",
      "              precision    recall  f1-score   support\n",
      "\n",
      "           0       0.97      0.90      0.93       342\n",
      "           1       0.87      0.96      0.91       255\n",
      "\n",
      "    accuracy                           0.92       597\n",
      "   macro avg       0.92      0.93      0.92       597\n",
      "weighted avg       0.93      0.92      0.92       597\n",
      "\n"
     ]
    }
   ],
   "source": [
    "#Using SVM to predict the outcome\n",
    "SVM=svm.SVC(C=1.0,kernel='linear',degree=3,gamma='auto')\n",
    "SVM.fit(Train_X_Tfidf,Train_Y)\n",
    "\n",
    "predictions_SVM=SVM.predict(Test_X_Tfidf)\n",
    "print(\"SVM Accuracy Score -> \",accuracy_score(predictions_SVM, Test_Y)*100)\n",
    "print(\"Confusion matrix is\")\n",
    "print(confusion_matrix(predictions_SVM, Test_Y))\n",
    "print(\"classification report is\")\n",
    "print(classification_report(predictions_SVM, Test_Y))"
   ]
  },
  {
   "cell_type": "code",
   "execution_count": 58,
   "metadata": {},
   "outputs": [
    {
     "name": "stdout",
     "output_type": "stream",
     "text": [
      "LR Accuracy Score ->  95.30988274706867\n",
      "Confusion matrix is\n",
      "[[309  19]\n",
      " [  9 260]]\n",
      "classification report is\n",
      "              precision    recall  f1-score   support\n",
      "\n",
      "           0       0.97      0.94      0.96       328\n",
      "           1       0.93      0.97      0.95       269\n",
      "\n",
      "    accuracy                           0.95       597\n",
      "   macro avg       0.95      0.95      0.95       597\n",
      "weighted avg       0.95      0.95      0.95       597\n",
      "\n"
     ]
    }
   ],
   "source": [
    "#Using Linear Regression to predict the outcome\n",
    "LR=LogisticRegression(C=100, random_state=0, max_iter=1000)\n",
    "LR.fit(Train_X_Tfidf,Train_Y)\n",
    "predictions_LR=LR.predict(Test_X_Tfidf)\n",
    "print(\"LR Accuracy Score -> \",accuracy_score(predictions_LR, Test_Y)*100)\n",
    "print(\"Confusion matrix is\")\n",
    "print(confusion_matrix(predictions_LR, Test_Y))\n",
    "print(\"classification report is\")\n",
    "print(classification_report(predictions_LR, Test_Y))"
   ]
  },
  {
   "cell_type": "code",
   "execution_count": null,
   "metadata": {},
   "outputs": [],
   "source": []
  }
 ],
 "metadata": {
  "interpreter": {
   "hash": "5df72968c04c6f62c4593b447ddc35d499f3e0409ea68f0167049ba6cc9c94e6"
  },
  "kernelspec": {
   "display_name": "Python 3 (ipykernel)",
   "language": "python",
   "name": "python3"
  },
  "language_info": {
   "codemirror_mode": {
    "name": "ipython",
    "version": 3
   },
   "file_extension": ".py",
   "mimetype": "text/x-python",
   "name": "python",
   "nbconvert_exporter": "python",
   "pygments_lexer": "ipython3",
   "version": "3.9.7"
  }
 },
 "nbformat": 4,
 "nbformat_minor": 4
}
